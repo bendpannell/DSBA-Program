{
 "cells": [
  {
   "cell_type": "markdown",
   "id": "5973fd86-19d8-44ca-aba2-9f3aac0eb584",
   "metadata": {},
   "source": [
    "Objective:\n",
    "\n",
    "Statistical analysis of business data. Explore the dataset and extract insights from the data. The idea is for you to get comfortable with doing statistical analysis in Python.\n",
    "\n",
    "You are expected to perform the statistical analysis to answer the following questions:\n",
    "\n",
    "<ol>\n",
    "    <li>Explore the dataset and extract insights using Exploratory Data Analysis.</li>\n",
    "    <li>Do the users spend more time on the new landing page than the old landing page?</li>\n",
    "    <li>Is the conversion rate (the proportion of users who visit the landing page and get converted) for the new page greater than the conversion rate for the old page?</li>\n",
    "    <li>Does the converted status depend on the preferred language? [Hint: Create a contingency table using the pandas.crosstab() function]</li>\n",
    "    <li>Is the mean time spent on the new page same for the different language users?</li>\n",
    "</ol>\n",
    "    \n",
    "*Consider a significance level of 0.05 for all tests."
   ]
  },
  {
   "cell_type": "code",
   "execution_count": 1,
   "id": "0809043f-e377-4e82-a397-1c197932a136",
   "metadata": {},
   "outputs": [],
   "source": [
    "# import all libraries\n",
    "import numpy as np\n",
    "import pandas as pd\n",
    "import matplotlib.pyplot as plt\n",
    "import seaborn as sns\n",
    "import scipy.stats as stats"
   ]
  },
  {
   "cell_type": "code",
   "execution_count": 2,
   "id": "9db77bdd-8be8-4432-97eb-821be8b8ce0f",
   "metadata": {},
   "outputs": [],
   "source": [
    "# import all data\n",
    "df = pd.read_csv('abtest.csv')"
   ]
  },
  {
   "cell_type": "code",
   "execution_count": 3,
   "id": "4f5a9ca0-83f6-4058-97aa-d228cc0ef0bd",
   "metadata": {},
   "outputs": [
    {
     "data": {
      "text/html": [
       "<div>\n",
       "<style scoped>\n",
       "    .dataframe tbody tr th:only-of-type {\n",
       "        vertical-align: middle;\n",
       "    }\n",
       "\n",
       "    .dataframe tbody tr th {\n",
       "        vertical-align: top;\n",
       "    }\n",
       "\n",
       "    .dataframe thead th {\n",
       "        text-align: right;\n",
       "    }\n",
       "</style>\n",
       "<table border=\"1\" class=\"dataframe\">\n",
       "  <thead>\n",
       "    <tr style=\"text-align: right;\">\n",
       "      <th></th>\n",
       "      <th>user_id</th>\n",
       "      <th>group</th>\n",
       "      <th>landing_page</th>\n",
       "      <th>time_spent_on_the_page</th>\n",
       "      <th>converted</th>\n",
       "      <th>language_preferred</th>\n",
       "    </tr>\n",
       "  </thead>\n",
       "  <tbody>\n",
       "    <tr>\n",
       "      <th>0</th>\n",
       "      <td>546592</td>\n",
       "      <td>control</td>\n",
       "      <td>old</td>\n",
       "      <td>3.48</td>\n",
       "      <td>no</td>\n",
       "      <td>Spanish</td>\n",
       "    </tr>\n",
       "    <tr>\n",
       "      <th>1</th>\n",
       "      <td>546468</td>\n",
       "      <td>treatment</td>\n",
       "      <td>new</td>\n",
       "      <td>7.13</td>\n",
       "      <td>yes</td>\n",
       "      <td>English</td>\n",
       "    </tr>\n",
       "    <tr>\n",
       "      <th>2</th>\n",
       "      <td>546462</td>\n",
       "      <td>treatment</td>\n",
       "      <td>new</td>\n",
       "      <td>4.40</td>\n",
       "      <td>no</td>\n",
       "      <td>Spanish</td>\n",
       "    </tr>\n",
       "    <tr>\n",
       "      <th>3</th>\n",
       "      <td>546567</td>\n",
       "      <td>control</td>\n",
       "      <td>old</td>\n",
       "      <td>3.02</td>\n",
       "      <td>no</td>\n",
       "      <td>French</td>\n",
       "    </tr>\n",
       "    <tr>\n",
       "      <th>4</th>\n",
       "      <td>546459</td>\n",
       "      <td>treatment</td>\n",
       "      <td>new</td>\n",
       "      <td>4.75</td>\n",
       "      <td>yes</td>\n",
       "      <td>Spanish</td>\n",
       "    </tr>\n",
       "  </tbody>\n",
       "</table>\n",
       "</div>"
      ],
      "text/plain": [
       "   user_id      group landing_page  time_spent_on_the_page converted  \\\n",
       "0   546592    control          old                    3.48        no   \n",
       "1   546468  treatment          new                    7.13       yes   \n",
       "2   546462  treatment          new                    4.40        no   \n",
       "3   546567    control          old                    3.02        no   \n",
       "4   546459  treatment          new                    4.75       yes   \n",
       "\n",
       "  language_preferred  \n",
       "0            Spanish  \n",
       "1            English  \n",
       "2            Spanish  \n",
       "3             French  \n",
       "4            Spanish  "
      ]
     },
     "execution_count": 3,
     "metadata": {},
     "output_type": "execute_result"
    }
   ],
   "source": [
    "# preview the data\n",
    "df.head()"
   ]
  },
  {
   "cell_type": "code",
   "execution_count": 4,
   "id": "ef134236-6ba6-49f8-97a4-2bf49891b546",
   "metadata": {},
   "outputs": [
    {
     "name": "stdout",
     "output_type": "stream",
     "text": [
      "<class 'pandas.core.frame.DataFrame'>\n",
      "RangeIndex: 100 entries, 0 to 99\n",
      "Data columns (total 6 columns):\n",
      " #   Column                  Non-Null Count  Dtype  \n",
      "---  ------                  --------------  -----  \n",
      " 0   user_id                 100 non-null    int64  \n",
      " 1   group                   100 non-null    object \n",
      " 2   landing_page            100 non-null    object \n",
      " 3   time_spent_on_the_page  100 non-null    float64\n",
      " 4   converted               100 non-null    object \n",
      " 5   language_preferred      100 non-null    object \n",
      "dtypes: float64(1), int64(1), object(4)\n",
      "memory usage: 4.8+ KB\n"
     ]
    }
   ],
   "source": [
    "# inspect data types and check for non-null values\n",
    "df.info()"
   ]
  },
  {
   "cell_type": "code",
   "execution_count": 5,
   "id": "811ca34f-0390-45c4-acb4-b79ab5cf0f54",
   "metadata": {},
   "outputs": [
    {
     "data": {
      "text/plain": [
       "(100, 6)"
      ]
     },
     "execution_count": 5,
     "metadata": {},
     "output_type": "execute_result"
    }
   ],
   "source": [
    "# check the shape of the data\n",
    "df.shape"
   ]
  },
  {
   "cell_type": "markdown",
   "id": "a3db49a8-ac97-403c-a7dd-121226dfaab0",
   "metadata": {},
   "source": [
    "### 1. Explore the dataset and extract insights using Exploratory Data Analysis."
   ]
  },
  {
   "cell_type": "code",
   "execution_count": 6,
   "id": "36384e08-d34c-4547-98f2-a1b6c611a4db",
   "metadata": {},
   "outputs": [
    {
     "data": {
      "text/html": [
       "<div>\n",
       "<style scoped>\n",
       "    .dataframe tbody tr th:only-of-type {\n",
       "        vertical-align: middle;\n",
       "    }\n",
       "\n",
       "    .dataframe tbody tr th {\n",
       "        vertical-align: top;\n",
       "    }\n",
       "\n",
       "    .dataframe thead th {\n",
       "        text-align: right;\n",
       "    }\n",
       "</style>\n",
       "<table border=\"1\" class=\"dataframe\">\n",
       "  <thead>\n",
       "    <tr style=\"text-align: right;\">\n",
       "      <th></th>\n",
       "      <th>user_id</th>\n",
       "      <th>time_spent_on_the_page</th>\n",
       "    </tr>\n",
       "  </thead>\n",
       "  <tbody>\n",
       "    <tr>\n",
       "      <th>count</th>\n",
       "      <td>100.000000</td>\n",
       "      <td>100.000000</td>\n",
       "    </tr>\n",
       "    <tr>\n",
       "      <th>mean</th>\n",
       "      <td>546517.000000</td>\n",
       "      <td>5.377800</td>\n",
       "    </tr>\n",
       "    <tr>\n",
       "      <th>std</th>\n",
       "      <td>52.295779</td>\n",
       "      <td>2.378166</td>\n",
       "    </tr>\n",
       "    <tr>\n",
       "      <th>min</th>\n",
       "      <td>546443.000000</td>\n",
       "      <td>0.190000</td>\n",
       "    </tr>\n",
       "    <tr>\n",
       "      <th>25%</th>\n",
       "      <td>546467.750000</td>\n",
       "      <td>3.880000</td>\n",
       "    </tr>\n",
       "    <tr>\n",
       "      <th>50%</th>\n",
       "      <td>546492.500000</td>\n",
       "      <td>5.415000</td>\n",
       "    </tr>\n",
       "    <tr>\n",
       "      <th>75%</th>\n",
       "      <td>546567.250000</td>\n",
       "      <td>7.022500</td>\n",
       "    </tr>\n",
       "    <tr>\n",
       "      <th>max</th>\n",
       "      <td>546592.000000</td>\n",
       "      <td>10.710000</td>\n",
       "    </tr>\n",
       "  </tbody>\n",
       "</table>\n",
       "</div>"
      ],
      "text/plain": [
       "             user_id  time_spent_on_the_page\n",
       "count     100.000000              100.000000\n",
       "mean   546517.000000                5.377800\n",
       "std        52.295779                2.378166\n",
       "min    546443.000000                0.190000\n",
       "25%    546467.750000                3.880000\n",
       "50%    546492.500000                5.415000\n",
       "75%    546567.250000                7.022500\n",
       "max    546592.000000               10.710000"
      ]
     },
     "execution_count": 6,
     "metadata": {},
     "output_type": "execute_result"
    }
   ],
   "source": [
    "# check the summary stats\n",
    "df.describe()"
   ]
  },
  {
   "cell_type": "code",
   "execution_count": 7,
   "id": "7f7327eb-3825-405b-be6b-fe2745aa436b",
   "metadata": {},
   "outputs": [
    {
     "data": {
      "text/plain": [
       "user_id                   100\n",
       "group                       2\n",
       "landing_page                2\n",
       "time_spent_on_the_page     94\n",
       "converted                   2\n",
       "language_preferred          3\n",
       "dtype: int64"
      ]
     },
     "execution_count": 7,
     "metadata": {},
     "output_type": "execute_result"
    }
   ],
   "source": [
    "# determine the number of unique values for each variable\n",
    "df.nunique()"
   ]
  },
  {
   "cell_type": "code",
   "execution_count": 8,
   "id": "52131174-ed82-424f-ac79-93bee5ce1a2b",
   "metadata": {},
   "outputs": [
    {
     "name": "stdout",
     "output_type": "stream",
     "text": [
      "['new']\n",
      "1\n"
     ]
    }
   ],
   "source": [
    "# determine the nature of landing_page and group variables\n",
    "print(df[df['group'] == 'treatment']['landing_page'].unique())\n",
    "print(df[df['group'] == 'treatment']['landing_page'].nunique())"
   ]
  },
  {
   "cell_type": "markdown",
   "id": "23c1a807-5934-4d63-b372-0dfac4bebcb8",
   "metadata": {},
   "source": [
    "The variables `landing_page` and `group` appear to be redundant. Finding the number of unique entries of the `landing_page` variable while filtering for the `group` variable yields only 1 result - 'new'."
   ]
  },
  {
   "cell_type": "code",
   "execution_count": 9,
   "id": "c3406ce5-9938-4907-9da6-9cbb12290bba",
   "metadata": {},
   "outputs": [
    {
     "data": {
      "image/png": "[encoded data removed]",
      "text/plain": [
       "<Figure size 360x360 with 1 Axes>"
      ]
     },
     "metadata": {
      "needs_background": "light"
     },
     "output_type": "display_data"
    }
   ],
   "source": [
    "# plot the time_spent_on_the_page variable along with distribution estimation\n",
    "sns.displot(data = df, x = 'time_spent_on_the_page', kde = True);"
   ]
  },
  {
   "cell_type": "markdown",
   "id": "38f54933-f3d1-4476-b049-279d67541d19",
   "metadata": {},
   "source": [
    "Plotting the distribution of the `time_spent_on_the_page` variable reveals a normal distribution. All following analysis on this variable will assume normality."
   ]
  },
  {
   "cell_type": "code",
   "execution_count": 10,
   "id": "69328efa-1874-438d-8ce7-f8055c9067be",
   "metadata": {},
   "outputs": [
    {
     "data": {
      "image/png": "[encoded data removed]",
      "text/plain": [
       "<Figure size 360x360 with 1 Axes>"
      ]
     },
     "metadata": {
      "needs_background": "light"
     },
     "output_type": "display_data"
    }
   ],
   "source": [
    "sns.displot(data = df, x = 'language_preferred');"
   ]
  },
  {
   "cell_type": "markdown",
   "id": "9bc4ec18-45b8-445a-86e6-fc87e230d5e2",
   "metadata": {},
   "source": [
    "Plotting the count of the `language_preferred` variable reveals a uniform distribution. Any further analysis on this variable will assume this distribution."
   ]
  },
  {
   "cell_type": "code",
   "execution_count": 11,
   "id": "e2335062-3d87-4b36-b3a0-7e4b5801112b",
   "metadata": {},
   "outputs": [
    {
     "data": {
      "image/png": "[encoded data removed]",
      "text/plain": [
       "<Figure size 720x360 with 2 Axes>"
      ]
     },
     "metadata": {
      "needs_background": "light"
     },
     "output_type": "display_data"
    }
   ],
   "source": [
    "sns.catplot(data = df, x = 'converted', y = 'time_spent_on_the_page', col = 'landing_page', kind = 'box');"
   ]
  },
  {
   "cell_type": "markdown",
   "id": "9b21c95b-08b6-438c-83ab-de1b72b5537a",
   "metadata": {},
   "source": [
    "Plotting the `time_spent_on_the_page` vs. `converted` variables and separated by `group` reveals some interesting results.\n",
    "These are merely observations and need explored further to determine statistical significance.\n",
    "<ul>\n",
    "    <li>Users who spend more time on the page are more likely to convert, independent of which group.</li>\n",
    "    <li>The treatment group appears to have a higher conversion rate.</li>\n",
    "    <li>The treatment group also appears to increase the time a user spends on a page, regardless if they converted or not.</li>\n",
    "</ul>"
   ]
  },
  {
   "cell_type": "markdown",
   "id": "18be0129-5a7c-443e-91e1-fc6ccbc562a8",
   "metadata": {},
   "source": [
    "### 2. Do the users spend more time on the new landing page than the old landing page?"
   ]
  },
  {
   "cell_type": "markdown",
   "id": "3ef0a3b1-21fc-42ef-8681-e015fe8b174d",
   "metadata": {},
   "source": [
    "Let $\\mu_1, \\mu_2$ be the mean time spent on the page for the control (old page) and treatment (new page) groups respectively.\n",
    "\n",
    "Null hypothesis:\n",
    "\n",
    ">$H_0:\\mu_1=\\mu_2$\n",
    "\n",
    "Alternate hypothesis:\n",
    "\n",
    ">$H_a:\\mu_1<\\mu_2$\n",
    "\n",
    "The confidence level for all tests is 95% ($\\alpha$ = 0.05)"
   ]
  },
  {
   "cell_type": "code",
   "execution_count": 12,
   "id": "7c2b0630-1bb1-4fcb-b088-e19e774a6a90",
   "metadata": {
    "tags": []
   },
   "outputs": [
    {
     "data": {
      "image/png": "[encoded data removed]",
      "text/plain": [
       "<Figure size 432x288 with 1 Axes>"
      ]
     },
     "metadata": {
      "needs_background": "light"
     },
     "output_type": "display_data"
    }
   ],
   "source": [
    "# create separate dataframes for the control and treatment groups.\n",
    "# landing page and groups are synonymous\n",
    "ctrl_group = df[df['group'] == 'control']\n",
    "treat_group = df[df['group'] == 'treatment']\n",
    "\n",
    "#plot the time sorted by groups\n",
    "sns.boxplot(data = df, x = 'group', y = 'time_spent_on_the_page');"
   ]
  },
  {
   "cell_type": "markdown",
   "id": "7595be35-eaf7-4664-aee3-6566316fc17f",
   "metadata": {},
   "source": [
    "Based on the box plot, it would appear that the treatment group spent more time on the page than the control group did. However, this needs the appropriate test in order to state that claim with any statistical significance. "
   ]
  },
  {
   "cell_type": "code",
   "execution_count": 13,
   "id": "1862e3b8-9fa8-456a-a64b-bd7cd45ec0a5",
   "metadata": {},
   "outputs": [
    {
     "name": "stdout",
     "output_type": "stream",
     "text": [
      "The average time spent on the page for the Control group is 4.53 with standard deviation of 2.58\n",
      "The average time spent on the page for the Treatment group is 6.22 with standard deviataion of 1.82\n"
     ]
    }
   ],
   "source": [
    "# determine the average time spent on the page based on the groups and save to a variable.\n",
    "ctrl_xbar = ctrl_group['time_spent_on_the_page'].mean()\n",
    "treat_xbar = treat_group['time_spent_on_the_page'].mean()\n",
    "\n",
    "#determine the sample variance \n",
    "ctrl_sigma = ctrl_group['time_spent_on_the_page'].std()\n",
    "treat_sigma = treat_group['time_spent_on_the_page'].std()\n",
    "\n",
    "#print the results\n",
    "print(f'The average time spent on the page for the Control group is {round(ctrl_xbar, 2)} with standard deviation of {round(ctrl_sigma, 2)}')\n",
    "print(f'The average time spent on the page for the Treatment group is {round(treat_xbar, 2)} with standard deviataion of {round(treat_sigma, 2)}')"
   ]
  },
  {
   "cell_type": "markdown",
   "id": "0b3744e1-93e5-40d9-ad27-d6ad4b118fa2",
   "metadata": {},
   "source": [
    "Based on the above analysis, we can assume the `time_spent_on_the_page` variable follows a normal distribution. Because of this, we will use the `norm` library from scipy.stats. Since these populations we're comparing are independent, normally distributed, and have unequal standard deviations, we use a 2-sample, independent T-test to compare the data. \n",
    "\n",
    "To determine if the treatment group is spending MORE time, we must do a one-sided test."
   ]
  },
  {
   "cell_type": "code",
   "execution_count": 14,
   "id": "7a19972a-2854-4701-9b37-d2afd3a3fa25",
   "metadata": {},
   "outputs": [],
   "source": [
    "# import the appropriate packages for the desired test\n",
    "from scipy.stats import norm, ttest_ind"
   ]
  },
  {
   "cell_type": "code",
   "execution_count": 15,
   "id": "93285f04-ccc3-4f5c-801a-d7c0d458dc40",
   "metadata": {},
   "outputs": [
    {
     "name": "stdout",
     "output_type": "stream",
     "text": [
      "The p-value of the t-test is: 0.00014\n"
     ]
    }
   ],
   "source": [
    "# Calculate and extract the test statistic and p value from the test\n",
    "test_stat, p_value = ttest_ind(ctrl_group['time_spent_on_the_page'], treat_group['time_spent_on_the_page'], equal_var = False, alternative = 'less')\n",
    "print(f'The p-value of the t-test is: {round(p_value, 5)}')"
   ]
  },
  {
   "cell_type": "markdown",
   "id": "1c717a94-e89d-4aed-8c3f-40f271dccb81",
   "metadata": {},
   "source": [
    "**Based on the above analysis, we reject the null-hypothesis. This concludes that we have enough statistical evidence to say that users spend more time on the new page, on average.**"
   ]
  },
  {
   "cell_type": "markdown",
   "id": "db95cf54-f13d-4b73-a7bd-96d1fa5c4025",
   "metadata": {},
   "source": [
    "### 3. Is the conversion rate (the proportion of users who visit the landing page and get converted) for the new page greater than the conversion rate for the old page?"
   ]
  },
  {
   "cell_type": "markdown",
   "id": "f99451d0-5bf7-4e51-8d64-41f07fcd0c81",
   "metadata": {},
   "source": [
    "$p_1$ and $p_2$ are the conversion rates of the old and new landing pages, respectively.\n",
    "\n",
    "Null Hypothesis:\n",
    "\n",
    ">$H_0:p_1 =p_2$\n",
    "\n",
    "Alternate hypothesis:\n",
    "\n",
    ">$H_a:p_1 < p_2$\n",
    "\n",
    "The confidence level for all test is 95% ($\\alpha$ = 0.05)"
   ]
  },
  {
   "cell_type": "code",
   "execution_count": 16,
   "id": "4a8e09d0-d5d3-4b25-876c-d16b0713238b",
   "metadata": {},
   "outputs": [
    {
     "name": "stdout",
     "output_type": "stream",
     "text": [
      "The conversion rate for the control group is 0.42 with 21 converted\n",
      "The conversion rate for the treatment group is 0.66 with 33 converted\n"
     ]
    }
   ],
   "source": [
    "# Create filter variables to keep the code clean\n",
    "ctrl_converted = ctrl_group['converted'] == 'yes'\n",
    "treat_converted = treat_group['converted'] == 'yes'\n",
    "\n",
    "# Calculate the number of converted and total samples\n",
    "ctrl_nconverted = ctrl_group[ctrl_converted]['user_id'].count()\n",
    "ctrl_total = ctrl_group['user_id'].count()\n",
    "\n",
    "treat_nconverted = treat_group[treat_converted]['user_id'].count()\n",
    "treat_total = treat_group['user_id'].count()\n",
    "\n",
    "# Print the results\n",
    "print(f'The conversion rate for the control group is {ctrl_nconverted / ctrl_total} with {ctrl_nconverted} converted')\n",
    "print(f'The conversion rate for the treatment group is {treat_nconverted / treat_total} with {treat_nconverted} converted')"
   ]
  },
  {
   "cell_type": "code",
   "execution_count": 17,
   "id": "49dd3f8b-172e-49ce-a4e0-765731c65738",
   "metadata": {},
   "outputs": [
    {
     "data": {
      "image/png": "[encoded data removed]",
      "text/plain": [
       "<Figure size 432x288 with 1 Axes>"
      ]
     },
     "metadata": {
      "needs_background": "light"
     },
     "output_type": "display_data"
    }
   ],
   "source": [
    "sns.countplot(data = df, x = 'group', hue = 'converted');"
   ]
  },
  {
   "cell_type": "markdown",
   "id": "cd8682d3-32f4-41a2-aea6-d4a69afefce9",
   "metadata": {},
   "source": [
    "Since we are comparing the proportions of 2 different samples, we need to perform a 2 proportion z-test. But first we need to ensure the sample sizes and proportions are large enough to assume normality. \n",
    "\n",
    ">$np_1 = 50\\cdot \\frac{21}{50} =21 \\geq 10\\\\\n",
    "n(1-p_1) = 50 \\cdot \\frac{50-21}{50} =31 \\geq 10 \\\\\n",
    "np_2 = 50\\cdot \\frac{33}{50} =33 \\geq 10\\\\\n",
    "n(1-p_2) = 50 \\cdot \\frac{50-33}{50} =17 \\geq 10 $\n",
    "\n",
    "All conditions are met.\n"
   ]
  },
  {
   "cell_type": "code",
   "execution_count": 18,
   "id": "737b7079-8633-454b-8128-a05d863b2fe0",
   "metadata": {},
   "outputs": [
    {
     "name": "stdout",
     "output_type": "stream",
     "text": [
      "The calculated p-value of the 2 proportions z-test is 0.01605\n"
     ]
    }
   ],
   "source": [
    "# import the appropriate package for the desired test\n",
    "from statsmodels.stats.proportion import proportions_ztest\n",
    "\n",
    "# calculate and extract the test statistic and p value from the test\n",
    "test_stat, p_value = proportions_ztest(np.array([ctrl_nconverted, treat_nconverted]), np.array([ctrl_total, treat_total]))\n",
    "print(f'The calculated p-value of the 2 proportions z-test is {round(p_value, 5)}')"
   ]
  },
  {
   "cell_type": "markdown",
   "id": "905c34b2-f910-4c8d-9c81-240f7b1779b2",
   "metadata": {},
   "source": [
    "**Based on the analysis, there is enough statisitcal evidence to reject the null hypothesis. This confirms that based on the data, the conversion rate for the new landing page is greater than the old page with statistical significance.**"
   ]
  },
  {
   "cell_type": "markdown",
   "id": "ed7f1258-42ea-4911-8d4b-7085efed576d",
   "metadata": {
    "tags": []
   },
   "source": [
    "### 4. Does the converted status depend on the preferred language? [Hint: Create a contingency table using the pandas.crosstab() function]"
   ]
  },
  {
   "cell_type": "markdown",
   "id": "d10464a1-4aa0-4313-89cc-42dc8d16ef05",
   "metadata": {
    "tags": []
   },
   "source": [
    "Null hypothesis:\n",
    "\n",
    ">$H_0:$ Converted status is independent of language preference.\n",
    "\n",
    "Alternate hypothesis:\n",
    "\n",
    ">$H_a:$ Converted status depends on language preference.\n",
    "\n",
    "Confidence level of 95% ($\\alpha$ = 0.05)"
   ]
  },
  {
   "cell_type": "code",
   "execution_count": 19,
   "id": "3b0b05cd-32a2-42d1-8dba-d5a58dc50ed4",
   "metadata": {
    "tags": []
   },
   "outputs": [
    {
     "data": {
      "text/html": [
       "<div>\n",
       "<style scoped>\n",
       "    .dataframe tbody tr th:only-of-type {\n",
       "        vertical-align: middle;\n",
       "    }\n",
       "\n",
       "    .dataframe tbody tr th {\n",
       "        vertical-align: top;\n",
       "    }\n",
       "\n",
       "    .dataframe thead th {\n",
       "        text-align: right;\n",
       "    }\n",
       "</style>\n",
       "<table border=\"1\" class=\"dataframe\">\n",
       "  <thead>\n",
       "    <tr style=\"text-align: right;\">\n",
       "      <th>language_preferred</th>\n",
       "      <th>English</th>\n",
       "      <th>French</th>\n",
       "      <th>Spanish</th>\n",
       "    </tr>\n",
       "    <tr>\n",
       "      <th>converted</th>\n",
       "      <th></th>\n",
       "      <th></th>\n",
       "      <th></th>\n",
       "    </tr>\n",
       "  </thead>\n",
       "  <tbody>\n",
       "    <tr>\n",
       "      <th>no</th>\n",
       "      <td>11</td>\n",
       "      <td>19</td>\n",
       "      <td>16</td>\n",
       "    </tr>\n",
       "    <tr>\n",
       "      <th>yes</th>\n",
       "      <td>21</td>\n",
       "      <td>15</td>\n",
       "      <td>18</td>\n",
       "    </tr>\n",
       "  </tbody>\n",
       "</table>\n",
       "</div>"
      ],
      "text/plain": [
       "language_preferred  English  French  Spanish\n",
       "converted                                   \n",
       "no                       11      19       16\n",
       "yes                      21      15       18"
      ]
     },
     "execution_count": 19,
     "metadata": {},
     "output_type": "execute_result"
    }
   ],
   "source": [
    "# create a variable for the conversion status vs the language preference and display the results\n",
    "conv_lang = pd.crosstab(df['converted'], df['language_preferred'])\n",
    "conv_lang"
   ]
  },
  {
   "cell_type": "code",
   "execution_count": 20,
   "id": "4fc09215-183d-413d-9d5f-65ca6897450b",
   "metadata": {},
   "outputs": [
    {
     "data": {
      "image/png": "[encoded data removed]",
      "text/plain": [
       "<Figure size 432x288 with 1 Axes>"
      ]
     },
     "metadata": {
      "needs_background": "light"
     },
     "output_type": "display_data"
    }
   ],
   "source": [
    "# Plot the count of the language preferred sorted by converted status\n",
    "sns.countplot(data = df, x = 'language_preferred', hue = 'converted');"
   ]
  },
  {
   "cell_type": "code",
   "execution_count": 21,
   "id": "38eac191-cf4e-424d-9305-425c8420383e",
   "metadata": {},
   "outputs": [
    {
     "name": "stdout",
     "output_type": "stream",
     "text": [
      "The calculated p-value for the test is 0.21299\n"
     ]
    }
   ],
   "source": [
    "# import the appropriate package for the desired test\n",
    "from scipy.stats import chi2_contingency\n",
    "\n",
    "# find the p-value\n",
    "chi, p_value, dof, expected = chi2_contingency(conv_lang)\n",
    "print(f'The calculated p-value for the test is {round(p_value, 5)}')"
   ]
  },
  {
   "cell_type": "markdown",
   "id": "e87a64ff-dc9d-432a-bfa3-9f4b2d11b5a3",
   "metadata": {},
   "source": [
    "**Based on the analysis, we fail to reject the null hypothesis. We do not have enough evidence to determine any dependecy of the conversion status with respect to language preference.** "
   ]
  },
  {
   "cell_type": "markdown",
   "id": "1cf3784c-a27c-4dcf-911a-c6aa6e4d8d09",
   "metadata": {
    "tags": []
   },
   "source": [
    "### 5. Is the mean time spent on the new page same for the different language users?"
   ]
  },
  {
   "cell_type": "code",
   "execution_count": 22,
   "id": "2e9be1b9-da19-4291-9ddf-929667672586",
   "metadata": {},
   "outputs": [
    {
     "data": {
      "text/plain": [
       "<AxesSubplot:xlabel='language_preferred', ylabel='time_spent_on_the_page'>"
      ]
     },
     "execution_count": 22,
     "metadata": {},
     "output_type": "execute_result"
    },
    {
     "data": {
      "image/png": "[encoded data removed]",
      "text/plain": [
       "<Figure size 432x288 with 1 Axes>"
      ]
     },
     "metadata": {
      "needs_background": "light"
     },
     "output_type": "display_data"
    }
   ],
   "source": [
    "# plot the time spent on the new page sorted by preferred language.\n",
    "sns.boxplot(data = treat_group, x = 'language_preferred', y = 'time_spent_on_the_page')"
   ]
  },
  {
   "cell_type": "markdown",
   "id": "903334e1-f90c-46b6-b69e-304f0b5574ea",
   "metadata": {},
   "source": [
    "Let $\\mu_1, \\mu_2, \\mu_3$ be the means of time spent for English, Spanish, and French respectively.\n",
    "\n",
    "Null hypothesis:\n",
    "\n",
    ">$H_0: \\mu_1 = \\mu_2 = \\mu_3$\n",
    "\n",
    "Alternative hypothesis:\n",
    "\n",
    ">$H_a: $ At least one average time spent per language is different from the rest.\n",
    "\n",
    "Confidence level of 95% ($\\alpha$ = 0.05)"
   ]
  },
  {
   "cell_type": "code",
   "execution_count": 23,
   "id": "6dc16a09-0e87-4e2c-b2f2-d2a55e66404a",
   "metadata": {},
   "outputs": [
    {
     "data": {
      "text/plain": [
       "language_preferred\n",
       "English    6.663750\n",
       "French     6.196471\n",
       "Spanish    5.835294\n",
       "Name: time_spent_on_the_page, dtype: float64"
      ]
     },
     "execution_count": 23,
     "metadata": {},
     "output_type": "execute_result"
    }
   ],
   "source": [
    "# Calculate and display the average time spent per language on the new site (treatment group)\n",
    "treat_group.groupby('language_preferred')['time_spent_on_the_page'].mean()"
   ]
  },
  {
   "cell_type": "markdown",
   "id": "9fb0b89d-c220-4a2d-b2ff-5c32161723d1",
   "metadata": {},
   "source": [
    "Since we're comparing the mean of 3 different groups we need to perform a one-way ANOVA test.\n",
    "This test requires the normality and variance to be tested separately with a Shapiro-Wilk's test and Levene's test respectively.\n",
    "\n",
    "The `time_spent_on_the_page` was determined to be normal for the entire test population during EDA, but since we're looking strictly at the users of the new page, we will continue with the necessary testing."
   ]
  },
  {
   "cell_type": "markdown",
   "id": "47131c62-e285-4ab7-9885-12a8f7a19391",
   "metadata": {},
   "source": [
    "#### Shapiro-Wilk's test for Normality\n",
    "\n",
    "Null hypothesis:\n",
    "\n",
    ">$H_0:$ Time spent on the new page follows a normal distribution\n",
    "\n",
    "Alternative hypothesis:\n",
    "\n",
    ">$H_a:$ Time spent on the new page does not follow a normal distribution\n",
    "\n",
    "Confidence level of 95% ($\\alpha$ = 0.05)"
   ]
  },
  {
   "cell_type": "code",
   "execution_count": 24,
   "id": "477397df-62a0-463b-b3ea-58c368668172",
   "metadata": {},
   "outputs": [
    {
     "name": "stdout",
     "output_type": "stream",
     "text": [
      "The p-value is 0.8040016293525696\n"
     ]
    }
   ],
   "source": [
    "# import the appropriate packages for the desired test\n",
    "from scipy import stats\n",
    "\n",
    "# find the p-value\n",
    "w, p_value = stats.shapiro(treat_group['time_spent_on_the_page']) \n",
    "print('The p-value is', p_value)"
   ]
  },
  {
   "cell_type": "markdown",
   "id": "0767f2c4-d4ac-4692-b012-ab64c3c98a77",
   "metadata": {},
   "source": [
    "Based on the data, we fail to reject the null hypothesis, suggesting the data is normal. \n",
    "\n",
    "Now we must determine the equality of the population variances."
   ]
  },
  {
   "cell_type": "markdown",
   "id": "3c87c56d-6602-44c4-b1aa-63ec8e341746",
   "metadata": {},
   "source": [
    "#### Levene’s test\n",
    "\n",
    "Null hypothesis:\n",
    "\n",
    ">$H_0$: All the population variances are equal\n",
    "\n",
    "Alternative hypothesis:\n",
    "\n",
    ">$H_a$: At least one variance is different from the rest\n",
    "\n",
    "Confidence level of 95% ($\\alpha$ = 0.05)"
   ]
  },
  {
   "cell_type": "code",
   "execution_count": 25,
   "id": "cdd6130a-fa63-4646-a9cc-099a6f411159",
   "metadata": {},
   "outputs": [
    {
     "name": "stdout",
     "output_type": "stream",
     "text": [
      "The p-value is 0.46711357711340173\n"
     ]
    }
   ],
   "source": [
    "# import the appropriate packages for the desired test\n",
    "from scipy.stats import levene\n",
    "\n",
    "# calculate the test statistic and p value\n",
    "test_stat, p_value = levene( treat_group['time_spent_on_the_page'][treat_group['language_preferred']==\"English\"], \n",
    "                             treat_group['time_spent_on_the_page'][treat_group['language_preferred']==\"Spanish\"],\n",
    "                             treat_group['time_spent_on_the_page'][treat_group['language_preferred']==\"French\"])\n",
    "# find the p-value\n",
    "print('The p-value is', p_value)"
   ]
  },
  {
   "cell_type": "markdown",
   "id": "d6b132d5-e34b-4f09-8c3f-e9fab63de47b",
   "metadata": {},
   "source": [
    "Based on the data, we fail to reject the null hypothesis, suggesting that the data supports that all groups exhibit similar variances.\n",
    "\n",
    "With this test complete, the One-way ANOVA test can now be performed."
   ]
  },
  {
   "cell_type": "code",
   "execution_count": 26,
   "id": "80f52770-384f-4cc1-898a-e4c7552e497f",
   "metadata": {},
   "outputs": [],
   "source": [
    "#Establish lists of time spent sorted by language\n",
    "english_time = treat_group.loc[treat_group['language_preferred'] == 'English', 'time_spent_on_the_page']\n",
    "spanish_time = treat_group.loc[treat_group['language_preferred'] == 'Spanish', 'time_spent_on_the_page']\n",
    "french_time = treat_group.loc[treat_group['language_preferred'] == 'French', 'time_spent_on_the_page']"
   ]
  },
  {
   "cell_type": "code",
   "execution_count": 27,
   "id": "6b53f884-585c-419c-aa31-c5790ce9a3a3",
   "metadata": {},
   "outputs": [
    {
     "name": "stdout",
     "output_type": "stream",
     "text": [
      "The calculated p-value for the test is 0.43204\n"
     ]
    }
   ],
   "source": [
    "#import the appropriate packages for the desired test\n",
    "from scipy.stats import f_oneway\n",
    "\n",
    "# perform one-way anova test\n",
    "test_stat, p_value = f_oneway(english_time, spanish_time, french_time)\n",
    "print(f'The calculated p-value for the test is {round(p_value, 5)}')"
   ]
  },
  {
   "cell_type": "markdown",
   "id": "52769213-e770-4d1a-8578-1b086f014e98",
   "metadata": {},
   "source": [
    "**Based on the data, we fail to reject the null hypothesis. This suggests that we do not have sufficient data to claim that the time spent on the new page is statistically different based on the preferred language of the user.**"
   ]
  }
 ],
 "metadata": {
  "kernelspec": {
   "display_name": "Python 3",
   "language": "python",
   "name": "python3"
  },
  "language_info": {
   "codemirror_mode": {
    "name": "ipython",
    "version": 3
   },
   "file_extension": ".py",
   "mimetype": "text/x-python",
   "name": "python",
   "nbconvert_exporter": "python",
   "pygments_lexer": "ipython3",
   "version": "3.8.8"
  }
 },
 "nbformat": 4,
 "nbformat_minor": 5
}
